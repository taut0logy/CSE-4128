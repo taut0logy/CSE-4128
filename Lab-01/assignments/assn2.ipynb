{
 "cells": [
  {
   "cell_type": "markdown",
   "id": "4daf88b1",
   "metadata": {},
   "source": [
    "# Assignment 2\n",
    "\n",
    "![Assignment 2](assn2.png)"
   ]
  },
  {
   "cell_type": "code",
   "execution_count": 1,
   "id": "095e15fd",
   "metadata": {},
   "outputs": [],
   "source": [
    "import cv2\n",
    "import numpy as np\n",
    "from kernels import gaussian_blurr_kernel, laplacian_of_gaussian_kernel\n",
    "from utils import convolve"
   ]
  },
  {
   "cell_type": "markdown",
   "id": "2f2fe33b",
   "metadata": {},
   "source": [
    "## Read image in BGR"
   ]
  },
  {
   "cell_type": "code",
   "execution_count": 2,
   "id": "cfa3fca3",
   "metadata": {},
   "outputs": [],
   "source": [
    "img_bgr = cv2.imread('./Lena.jpg', cv2.IMREAD_COLOR)\n",
    "\n",
    "cv2.imshow('Original Image', img_bgr)\n",
    "\n",
    "cv2.waitKey(0)\n",
    "cv2.destroyAllWindows()"
   ]
  },
  {
   "cell_type": "markdown",
   "id": "35b3e5d6",
   "metadata": {},
   "source": [
    "## Split the image into its color channels"
   ]
  },
  {
   "cell_type": "code",
   "execution_count": 3,
   "id": "5a4cf0e2",
   "metadata": {},
   "outputs": [],
   "source": [
    "img_b, img_g, img_r = cv2.split(img_bgr)\n",
    "\n",
    "cv2.imshow('Blue Channel', img_b)\n",
    "cv2.imshow('Green Channel', img_g)\n",
    "cv2.imshow('Red Channel', img_r)\n",
    "\n",
    "cv2.waitKey(0)\n",
    "cv2.destroyAllWindows()"
   ]
  },
  {
   "cell_type": "markdown",
   "id": "a99bd306",
   "metadata": {},
   "source": [
    "## Showing different channels in their colors"
   ]
  },
  {
   "cell_type": "code",
   "execution_count": 4,
   "id": "07b64382",
   "metadata": {},
   "outputs": [],
   "source": [
    "b = np.zeros_like(img_bgr)\n",
    "g = np.zeros_like(img_bgr)\n",
    "r = np.zeros_like(img_bgr)\n",
    "\n",
    "b[:, :, 0] = img_b\n",
    "g[:, :, 1] = img_g\n",
    "r[:, :, 2] = img_r\n",
    "\n",
    "cv2.imshow('Reconstructed Blue Channel', b)\n",
    "cv2.imshow('Reconstructed Green Channel', g)\n",
    "cv2.imshow('Reconstructed Red Channel', r)\n",
    "\n",
    "cv2.waitKey(0)\n",
    "cv2.destroyAllWindows()"
   ]
  },
  {
   "cell_type": "markdown",
   "id": "5ffe6d06",
   "metadata": {},
   "source": [
    "## Define Smoothing filter kernel\n",
    "\n",
    " - Gaussian kernel of **size 5x5** and **sigma = 1**\n"
   ]
  },
  {
   "cell_type": "code",
   "execution_count": 5,
   "id": "9d56e829",
   "metadata": {},
   "outputs": [
    {
     "name": "stdout",
     "output_type": "stream",
     "text": [
      "Gaussian Kernel:\n",
      " [[0.00296902 0.01330621 0.02193823 0.01330621 0.00296902]\n",
      " [0.01330621 0.0596343  0.09832034 0.0596343  0.01330621]\n",
      " [0.02193823 0.09832034 0.16210282 0.09832034 0.02193823]\n",
      " [0.01330621 0.0596343  0.09832034 0.0596343  0.01330621]\n",
      " [0.00296902 0.01330621 0.02193823 0.01330621 0.00296902]]\n"
     ]
    }
   ],
   "source": [
    "sigma = 1\n",
    "m = 5\n",
    "kernel_g = gaussian_blurr_kernel(m, sigma)\n",
    "print(\"Gaussian Kernel:\\n\", kernel_g)"
   ]
  },
  {
   "cell_type": "markdown",
   "id": "5936b65d",
   "metadata": {},
   "source": [
    "## Apply Blurr filter on each channel"
   ]
  },
  {
   "cell_type": "code",
   "execution_count": 6,
   "id": "098a2cb6",
   "metadata": {},
   "outputs": [],
   "source": [
    "_, _, _, img_b_blurred = convolve(img_b, kernel_g)\n",
    "_, _, _, img_g_blurred = convolve(img_g, kernel_g)\n",
    "_, _, _, img_r_blurred = convolve(img_r, kernel_g)\n",
    "\n",
    "cv2.imshow('Blurred Blue Channel', img_b_blurred)\n",
    "cv2.imshow('Blurred Green Channel', img_g_blurred)\n",
    "cv2.imshow('Blurred Red Channel', img_r_blurred)\n",
    "\n",
    "cv2.waitKey(0)\n",
    "cv2.destroyAllWindows()"
   ]
  },
  {
   "cell_type": "markdown",
   "id": "feea4022",
   "metadata": {},
   "source": [
    "## Merge the filtered channels and normalize to get the final result"
   ]
  },
  {
   "cell_type": "code",
   "execution_count": 7,
   "id": "3f85c88e",
   "metadata": {},
   "outputs": [],
   "source": [
    "img_blurred_merged = cv2.merge((img_b_blurred, img_g_blurred, img_r_blurred))\n",
    "img_blurred = cv2.normalize(img_blurred_merged, None, 0, 255, cv2.NORM_MINMAX)\n",
    "\n",
    "cv2.imshow('Blurred Merged Image', img_blurred_merged)\n",
    "cv2.imshow('Blurred BGR Image', img_blurred)\n",
    "cv2.waitKey(0)\n",
    "cv2.destroyAllWindows()"
   ]
  },
  {
   "cell_type": "markdown",
   "id": "463e1f27",
   "metadata": {},
   "source": [
    "Repeat the rpocess and get Log Filtered Image"
   ]
  },
  {
   "cell_type": "code",
   "execution_count": 8,
   "id": "ab55ae18",
   "metadata": {},
   "outputs": [
    {
     "name": "stdout",
     "output_type": "stream",
     "text": [
      "Laplacian of Gaussian Kernel:\n",
      " [[ 3.14260484e-04  2.63207755e-03  8.57902039e-03  1.23763615e-02\n",
      "   8.57902039e-03  2.63207755e-03  3.14260484e-04]\n",
      " [ 2.63207755e-03  1.74901467e-02  3.91926989e-02  4.30785604e-02\n",
      "   3.91926989e-02  1.74901467e-02  2.63207755e-03]\n",
      " [ 8.57902039e-03  3.91926989e-02  0.00000000e+00 -9.65323523e-02\n",
      "   0.00000000e+00  3.91926989e-02  8.57902039e-03]\n",
      " [ 1.23763615e-02  4.30785604e-02 -9.65323523e-02 -3.18309873e-01\n",
      "  -9.65323523e-02  4.30785604e-02  1.23763615e-02]\n",
      " [ 8.57902039e-03  3.91926989e-02  0.00000000e+00 -9.65323523e-02\n",
      "   0.00000000e+00  3.91926989e-02  8.57902039e-03]\n",
      " [ 2.63207755e-03  1.74901467e-02  3.91926989e-02  4.30785604e-02\n",
      "   3.91926989e-02  1.74901467e-02  2.63207755e-03]\n",
      " [ 3.14260484e-04  2.63207755e-03  8.57902039e-03  1.23763615e-02\n",
      "   8.57902039e-03  2.63207755e-03  3.14260484e-04]]\n"
     ]
    }
   ],
   "source": [
    "n = 7\n",
    "sigma2 = 1\n",
    "kernel_log = laplacian_of_gaussian_kernel(n, sigma2)\n",
    "\n",
    "print(\"Laplacian of Gaussian Kernel:\\n\", kernel_log)"
   ]
  },
  {
   "cell_type": "code",
   "execution_count": 9,
   "id": "20291f83",
   "metadata": {},
   "outputs": [],
   "source": [
    "_, _, _, img_b_log = convolve(img_b, kernel_log)\n",
    "_, _, _, img_g_log = convolve(img_g, kernel_log)\n",
    "_, _, _, img_r_log = convolve(img_r, kernel_log)\n",
    "\n",
    "cv2.imshow('LoG Blue Channel', img_b_log)\n",
    "cv2.imshow('LoG Green Channel', img_g_log)\n",
    "cv2.imshow('LoG Red Channel', img_r_log)\n",
    "\n",
    "cv2.waitKey(0)\n",
    "cv2.destroyAllWindows()"
   ]
  },
  {
   "cell_type": "code",
   "execution_count": 10,
   "id": "30487d67",
   "metadata": {},
   "outputs": [],
   "source": [
    "img_log_merged = cv2.merge((img_b_log, img_g_log, img_r_log))\n",
    "img_log = cv2.normalize(img_log_merged, None, 0, 255, cv2.NORM_MINMAX)\n",
    "\n",
    "cv2.imshow('Original Image', img_bgr)\n",
    "cv2.imshow('LoG Merged Image', img_log_merged)\n",
    "cv2.imshow('LoG BGR Image', img_log)\n",
    "cv2.waitKey(0)\n",
    "cv2.destroyAllWindows()"
   ]
  },
  {
   "cell_type": "markdown",
   "id": "a25e233a",
   "metadata": {},
   "source": [
    "## Convert the image into HSV"
   ]
  },
  {
   "cell_type": "code",
   "execution_count": 11,
   "id": "4c2caf16",
   "metadata": {},
   "outputs": [],
   "source": [
    "img_hsv = cv2.cvtColor(img_blurred, cv2.COLOR_BGR2HSV)\n",
    "\n",
    "cv2.imshow('HSV Image', img_hsv)\n",
    "\n",
    "cv2.waitKey(0)\n",
    "cv2.destroyAllWindows()"
   ]
  },
  {
   "cell_type": "markdown",
   "id": "7ab29e9e",
   "metadata": {},
   "source": [
    "## Split the HSV image"
   ]
  },
  {
   "cell_type": "code",
   "execution_count": 12,
   "id": "702aec36",
   "metadata": {},
   "outputs": [],
   "source": [
    "img_h, img_s, img_v = cv2.split(img_hsv)\n",
    "\n",
    "cv2.imshow('Hue Channel', img_h)\n",
    "cv2.imshow('Saturation Channel', img_s)\n",
    "cv2.imshow('Value Channel', img_v)\n",
    "\n",
    "cv2.waitKey(0)\n",
    "cv2.destroyAllWindows()"
   ]
  },
  {
   "cell_type": "markdown",
   "id": "e6ea6414",
   "metadata": {},
   "source": [
    "## Use the same convolution operations on the HSV channels"
   ]
  },
  {
   "cell_type": "code",
   "execution_count": 13,
   "id": "ac2e29a9",
   "metadata": {},
   "outputs": [],
   "source": [
    "_, _, _, img_h_blurred = convolve(img_h, kernel_g)\n",
    "_, _, _, img_s_blurred = convolve(img_s, kernel_g)\n",
    "_, _, _, img_v_blurred = convolve(img_v, kernel_g)"
   ]
  },
  {
   "cell_type": "code",
   "execution_count": 14,
   "id": "56c68bdb",
   "metadata": {},
   "outputs": [],
   "source": [
    "hsv_merged_blurr = cv2.merge((img_h_blurred, img_s_blurred, img_v_blurred))\n",
    "hsv_blurred = cv2.normalize(hsv_merged_blurr, None, 0, 255, cv2.NORM_MINMAX)\n",
    "\n",
    "cv2.imshow('Blurred HSV', hsv_blurred)\n",
    "cv2.waitKey(0)\n",
    "cv2.destroyAllWindows()\n"
   ]
  },
  {
   "cell_type": "code",
   "execution_count": 15,
   "id": "1c085a23",
   "metadata": {},
   "outputs": [],
   "source": [
    "_, _, _, img_h_log = convolve(img_h, kernel_log)\n",
    "_, _, _, img_s_log = convolve(img_s, kernel_log)\n",
    "_, _, _, img_v_log = convolve(img_v, kernel_log)\n"
   ]
  },
  {
   "cell_type": "code",
   "execution_count": 16,
   "id": "97d7fcdd",
   "metadata": {},
   "outputs": [],
   "source": [
    "hsv_log_merged = cv2.merge((img_h_log, img_s_log, img_v_log))\n",
    "hsv_log = cv2.normalize(hsv_log_merged, None, 0, 255, cv2.NORM_MINMAX)\n",
    "\n",
    "cv2.imshow('Log Filtered HSV', hsv_log)\n",
    "\n",
    "cv2.waitKey(0)\n",
    "cv2.destroyAllWindows()"
   ]
  },
  {
   "cell_type": "markdown",
   "id": "595549af",
   "metadata": {},
   "source": [
    "## Compare the outputs from the two different color mode images"
   ]
  },
  {
   "cell_type": "code",
   "execution_count": 17,
   "id": "a4ccbeb3",
   "metadata": {},
   "outputs": [],
   "source": [
    "cv2.imshow('Blurred BGR', img_blurred)\n",
    "cv2.imshow('Blurred HSV', hsv_blurred)\n",
    "cv2.waitKey(0)\n",
    "cv2.destroyAllWindows()"
   ]
  },
  {
   "cell_type": "code",
   "execution_count": 18,
   "id": "4f11603d",
   "metadata": {},
   "outputs": [],
   "source": [
    "cv2.imshow('LoG BGR', img_log)\n",
    "cv2.imshow('LoG HSV', hsv_log)\n",
    "cv2.waitKey(0)\n",
    "cv2.destroyAllWindows()"
   ]
  }
 ],
 "metadata": {
  "kernelspec": {
   "display_name": "base",
   "language": "python",
   "name": "python3"
  },
  "language_info": {
   "codemirror_mode": {
    "name": "ipython",
    "version": 3
   },
   "file_extension": ".py",
   "mimetype": "text/x-python",
   "name": "python",
   "nbconvert_exporter": "python",
   "pygments_lexer": "ipython3",
   "version": "3.13.5"
  }
 },
 "nbformat": 4,
 "nbformat_minor": 5
}
