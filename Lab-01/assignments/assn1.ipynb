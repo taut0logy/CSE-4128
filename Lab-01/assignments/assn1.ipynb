{
 "cells": [
  {
   "cell_type": "markdown",
   "id": "02147253",
   "metadata": {},
   "source": [
    "# Asignment 1\n",
    "\n",
    "![Assignment 1](assn1.png)\n"
   ]
  },
  {
   "cell_type": "markdown",
   "id": "801cac7c",
   "metadata": {},
   "source": [
    "## Equations\n",
    "\n",
    "### Gaussian function\n",
    "\n",
    "![gaussian](gauss.png)\n",
    "\n",
    "### Laplacian of gaussian function\n",
    "\n",
    "![log](log.png)\n"
   ]
  },
  {
   "cell_type": "code",
   "execution_count": 28,
   "id": "8ec8abab",
   "metadata": {},
   "outputs": [],
   "source": [
    "import cv2\n",
    "from kernels import gaussian_blurr_kernel, laplacian_of_gaussian_kernel, gaussian_derivative_kernel_first\n",
    "from utils import convolve"
   ]
  },
  {
   "cell_type": "markdown",
   "id": "ab768d4e",
   "metadata": {},
   "source": [
    "## Smoothing Kernel\n",
    "\n",
    " - Gaussian kernel of **size 5x5** and **sigma = 1**"
   ]
  },
  {
   "cell_type": "code",
   "execution_count": 29,
   "id": "abc92b0c",
   "metadata": {},
   "outputs": [
    {
     "name": "stdout",
     "output_type": "stream",
     "text": [
      "Gaussian Blur Kernel:\n",
      " [[0.00296902 0.01330621 0.02193823 0.01330621 0.00296902]\n",
      " [0.01330621 0.0596343  0.09832034 0.0596343  0.01330621]\n",
      " [0.02193823 0.09832034 0.16210282 0.09832034 0.02193823]\n",
      " [0.01330621 0.0596343  0.09832034 0.0596343  0.01330621]\n",
      " [0.00296902 0.01330621 0.02193823 0.01330621 0.00296902]]\n"
     ]
    }
   ],
   "source": [
    "sigma = 1\n",
    "m = 5\n",
    "kernel_g = gaussian_blurr_kernel(m, sigma)\n",
    "print('Gaussian Blur Kernel:\\n', kernel_g)"
   ]
  },
  {
   "cell_type": "markdown",
   "id": "1b30e937",
   "metadata": {},
   "source": [
    "## Read Image in Grayscale"
   ]
  },
  {
   "cell_type": "code",
   "execution_count": 30,
   "id": "f249d687",
   "metadata": {},
   "outputs": [],
   "source": [
    "img_bw = cv2.imread('./Lena.jpg', cv2.IMREAD_GRAYSCALE)\n",
    "cv2.imshow('Original Image (B&W)', img_bw)\n",
    "\n",
    "cv2.waitKey(0)\n",
    "cv2.destroyAllWindows()"
   ]
  },
  {
   "cell_type": "markdown",
   "id": "d9a1aecf",
   "metadata": {},
   "source": [
    "## Operate on image\n",
    "\n",
    " - Add padding to image\n",
    " - Apply convolution\n",
    " - Normalize the output\n",
    " - Remove padding"
   ]
  },
  {
   "cell_type": "markdown",
   "id": "a814fc69",
   "metadata": {},
   "source": [
    "### Gaussian Blurr"
   ]
  },
  {
   "cell_type": "code",
   "execution_count": 31,
   "id": "f84ee7d3",
   "metadata": {},
   "outputs": [],
   "source": [
    "import numpy as np\n",
    "img_bordered, img_conv, img_norm, img_res = convolve(img_bw, kernel_g)\n",
    "\n",
    "cv2.imshow('Image with Border', img_bordered)\n",
    "cv2.imshow('Gaussian Convolved Image', img_conv)\n",
    "cv2.imshow('Normalized Gaussian Convolved Image', img_norm)\n",
    "cv2.imshow('Result of Gaussian Blurred Image', img_res)\n",
    "\n",
    "cv2.waitKey(0)\n",
    "cv2.destroyAllWindows()"
   ]
  },
  {
   "cell_type": "markdown",
   "id": "f7753439",
   "metadata": {},
   "source": [
    "## Sharpening Kernel\n",
    "\n",
    " - Laplacian of Gaussian kernel of **size 7x7** and **sigma = 1**"
   ]
  },
  {
   "cell_type": "code",
   "execution_count": 32,
   "id": "716ce684",
   "metadata": {},
   "outputs": [
    {
     "name": "stdout",
     "output_type": "stream",
     "text": [
      "Laplacian of Gaussian Kernel:\n",
      " [[ 3.14260484e-04  2.63207755e-03  8.57902039e-03  1.23763615e-02\n",
      "   8.57902039e-03  2.63207755e-03  3.14260484e-04]\n",
      " [ 2.63207755e-03  1.74901467e-02  3.91926989e-02  4.30785604e-02\n",
      "   3.91926989e-02  1.74901467e-02  2.63207755e-03]\n",
      " [ 8.57902039e-03  3.91926989e-02  0.00000000e+00 -9.65323523e-02\n",
      "   0.00000000e+00  3.91926989e-02  8.57902039e-03]\n",
      " [ 1.23763615e-02  4.30785604e-02 -9.65323523e-02 -3.18309873e-01\n",
      "  -9.65323523e-02  4.30785604e-02  1.23763615e-02]\n",
      " [ 8.57902039e-03  3.91926989e-02  0.00000000e+00 -9.65323523e-02\n",
      "   0.00000000e+00  3.91926989e-02  8.57902039e-03]\n",
      " [ 2.63207755e-03  1.74901467e-02  3.91926989e-02  4.30785604e-02\n",
      "   3.91926989e-02  1.74901467e-02  2.63207755e-03]\n",
      " [ 3.14260484e-04  2.63207755e-03  8.57902039e-03  1.23763615e-02\n",
      "   8.57902039e-03  2.63207755e-03  3.14260484e-04]]\n"
     ]
    }
   ],
   "source": [
    "n = 7\n",
    "sigma = 1\n",
    "kernel_log = laplacian_of_gaussian_kernel(n, sigma)\n",
    "print('Laplacian of Gaussian Kernel:\\n', kernel_log)"
   ]
  },
  {
   "cell_type": "markdown",
   "id": "1ac85916",
   "metadata": {},
   "source": [
    "# Sharpening using Gaussian Differential kernel\n",
    "\n",
    "- kernel size **7x7**\n",
    "- sigma = 1"
   ]
  },
  {
   "cell_type": "code",
   "execution_count": 33,
   "id": "cf76db3d",
   "metadata": {},
   "outputs": [],
   "source": [
    "ksz = 7\n",
    "sigma3 = 1\n",
    "kx, ky = gaussian_derivative_kernel_first(ksz, sigma3)"
   ]
  },
  {
   "cell_type": "code",
   "execution_count": 34,
   "id": "dad8f022",
   "metadata": {},
   "outputs": [],
   "source": [
    "_, img_x_gauss, _, _ = convolve(img_bw, kx)\n",
    "_, img_y_gauss, _, _ = convolve(img_bw, ky)\n",
    "\n",
    "grad_mag = cv2.magnitude(img_x_gauss, img_y_gauss)\n",
    "grad_mag_norm = np.round(cv2.normalize(grad_mag, None, 0, 255, cv2.NORM_MINMAX)).astype(np.uint8)"
   ]
  },
  {
   "cell_type": "code",
   "execution_count": 35,
   "id": "04af3ac9",
   "metadata": {},
   "outputs": [],
   "source": [
    "cv2.imshow('Gaussian Derivative X', img_x_gauss)\n",
    "cv2.imshow('Gaussian Derivative Y', img_y_gauss)\n",
    "cv2.imshow('Gradient Magnitude', grad_mag_norm)\n",
    "\n",
    "cv2.waitKey(0)\n",
    "cv2.destroyAllWindows()"
   ]
  },
  {
   "cell_type": "markdown",
   "id": "c550a15a",
   "metadata": {},
   "source": [
    "## Sharpening using LoG"
   ]
  },
  {
   "cell_type": "code",
   "execution_count": 36,
   "id": "38bc64d7",
   "metadata": {},
   "outputs": [],
   "source": [
    "img_bordered_2, img_conv_2, img_norm_2, img_res_2 = convolve(img_bw, kernel_log)\n",
    "\n",
    "cv2.imshow('Image with Border', img_bordered_2)\n",
    "cv2.imshow('LoG Convolved Image', img_conv_2)\n",
    "cv2.imshow('Normalized LoG Convolved Image', img_norm_2)\n",
    "cv2.imshow('Result of LoG Sharpened Image', img_res_2)\n",
    "\n",
    "cv2.waitKey(0)\n",
    "cv2.destroyAllWindows()"
   ]
  },
  {
   "cell_type": "markdown",
   "id": "e70e6e84",
   "metadata": {},
   "source": [
    "# Use the LoG Convolution result as a mask and use it to sharpen the original image"
   ]
  },
  {
   "cell_type": "code",
   "execution_count": 37,
   "id": "d94937a2",
   "metadata": {},
   "outputs": [],
   "source": [
    "k = 5 # Masking factor\n",
    "\n",
    "mask = cv2.subtract(img_bw, img_res)\n",
    "img_sharp = cv2.add(img_bw, mask * k)\n",
    "\n",
    "cv2.imshow('Original Grayscale Image', img_bw)\n",
    "cv2.imshow('Blurr filter', img_res)\n",
    "cv2.imshow('Sharpening filter', img_res_2)\n",
    "cv2.imshow('Mask', mask)\n",
    "cv2.imshow('Sharpened Image', img_sharp)\n",
    "\n",
    "cv2.waitKey(0)\n",
    "cv2.destroyAllWindows()"
   ]
  }
 ],
 "metadata": {
  "kernelspec": {
   "display_name": "base",
   "language": "python",
   "name": "python3"
  },
  "language_info": {
   "codemirror_mode": {
    "name": "ipython",
    "version": 3
   },
   "file_extension": ".py",
   "mimetype": "text/x-python",
   "name": "python",
   "nbconvert_exporter": "python",
   "pygments_lexer": "ipython3",
   "version": "3.13.5"
  }
 },
 "nbformat": 4,
 "nbformat_minor": 5
}
