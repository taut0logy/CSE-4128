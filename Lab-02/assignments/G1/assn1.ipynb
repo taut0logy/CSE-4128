{
 "cells": [
  {
   "cell_type": "markdown",
   "id": "c593af7a",
   "metadata": {},
   "source": [
    "# Assignment 1\n",
    "\n",
    "![Assignment 1](assets/assn1.png)\n",
    "![Assignment 2](assets/assn2.png)"
   ]
  },
  {
   "cell_type": "markdown",
   "id": "f0118253",
   "metadata": {},
   "source": [
    "## Functions Used\n",
    "\n",
    "### Gaussian function\n",
    "\n",
    "![Gaussian](assets/gaussian.png)\n",
    "\n",
    "### Gaussian x derivative\n",
    "\n",
    "![Gaussian X](assets/gauss_der_x.png)\n",
    "\n",
    "### Gaussian y derivative\n",
    "\n",
    "![Gaussian Y](assets/gauss_der_y.png)\n"
   ]
  },
  {
   "cell_type": "code",
   "execution_count": 1,
   "id": "1313cbd9",
   "metadata": {},
   "outputs": [],
   "source": [
    "import numpy as np\n",
    "import cv2"
   ]
  },
  {
   "cell_type": "code",
   "execution_count": 2,
   "id": "b6c94b6b",
   "metadata": {},
   "outputs": [],
   "source": [
    "img = cv2.imread('../../../assets/buildings.jpg', cv2.IMREAD_GRAYSCALE)\n",
    "cv2.imshow('Original Image', img)\n",
    "\n",
    "cv2.waitKey(0)\n",
    "cv2.destroyAllWindows()"
   ]
  },
  {
   "cell_type": "markdown",
   "id": "8aa559c1",
   "metadata": {},
   "source": [
    "## Gaussian functions"
   ]
  },
  {
   "cell_type": "code",
   "execution_count": 3,
   "id": "eb4523ce",
   "metadata": {},
   "outputs": [],
   "source": [
    "def gaussian(u, v, sigma = 1):\n",
    "    g = np.exp(-(u**2 + v**2) / (2 * sigma**2)) / (2 * np.pi * sigma**2)\n",
    "    return g\n",
    "\n",
    "def gaussian_derivative_x(u, v, sigma):\n",
    "    g_x = -u * gaussian(u, v, sigma) / (sigma**2)\n",
    "    return g_x\n",
    "\n",
    "def gaussian_derivative_y(u, v, sigma):\n",
    "    g_y = -v * gaussian(u, v, sigma) / (sigma**2)\n",
    "    return g_y"
   ]
  },
  {
   "cell_type": "markdown",
   "id": "87781c66",
   "metadata": {},
   "source": [
    "## Generate 7x7 Gaussian x and y derivative kernels"
   ]
  },
  {
   "cell_type": "code",
   "execution_count": 4,
   "id": "4422f17b",
   "metadata": {},
   "outputs": [],
   "source": [
    "def gaussian_derivative_kernels(m=7, sigma=1):\n",
    "    assert m % 2 == 1, \"Kernel size must be odd\"\n",
    "    k = (m - 1) // 2\n",
    "    kernel_x = np.zeros((m, m), dtype=np.float32)\n",
    "    kernel_y = np.zeros((m, m), dtype=np.float32)\n",
    "    for i in range(m):\n",
    "        for j in range(m):\n",
    "            kernel_x[i, j] = gaussian_derivative_x(i - k, j - k, sigma)\n",
    "            kernel_y[i, j] = gaussian_derivative_y(i - k, j - k, sigma)\n",
    "    return kernel_x, kernel_y"
   ]
  },
  {
   "cell_type": "code",
   "execution_count": 5,
   "id": "283904a9",
   "metadata": {},
   "outputs": [
    {
     "name": "stdout",
     "output_type": "stream",
     "text": [
      "============================================================\n",
      "KERNEL (X direction):\n",
      "============================================================\n",
      "[[ 5.8923841e-05  7.1783934e-04  3.2171328e-03  5.3041549e-03\n",
      "   3.2171328e-03  7.1783934e-04  5.8923841e-05]\n",
      " [ 4.7855955e-04  5.8300490e-03  2.6128467e-02  4.3078560e-02\n",
      "   2.6128467e-02  5.8300490e-03  4.7855955e-04]\n",
      " [ 1.0723775e-03  1.3064234e-02  5.8549833e-02  9.6532352e-02\n",
      "   5.8549833e-02  1.3064234e-02  1.0723775e-03]\n",
      " [ 0.0000000e+00  0.0000000e+00  0.0000000e+00  0.0000000e+00\n",
      "   0.0000000e+00  0.0000000e+00  0.0000000e+00]\n",
      " [-1.0723775e-03 -1.3064234e-02 -5.8549833e-02 -9.6532352e-02\n",
      "  -5.8549833e-02 -1.3064234e-02 -1.0723775e-03]\n",
      " [-4.7855955e-04 -5.8300490e-03 -2.6128467e-02 -4.3078560e-02\n",
      "  -2.6128467e-02 -5.8300490e-03 -4.7855955e-04]\n",
      " [-5.8923841e-05 -7.1783934e-04 -3.2171328e-03 -5.3041549e-03\n",
      "  -3.2171328e-03 -7.1783934e-04 -5.8923841e-05]]\n",
      "============================================================\n",
      "\n",
      "KERNEL (Y direction):\n",
      "============================================================\n",
      "[[ 5.8923841e-05  4.7855955e-04  1.0723775e-03  0.0000000e+00\n",
      "  -1.0723775e-03 -4.7855955e-04 -5.8923841e-05]\n",
      " [ 7.1783934e-04  5.8300490e-03  1.3064234e-02  0.0000000e+00\n",
      "  -1.3064234e-02 -5.8300490e-03 -7.1783934e-04]\n",
      " [ 3.2171328e-03  2.6128467e-02  5.8549833e-02  0.0000000e+00\n",
      "  -5.8549833e-02 -2.6128467e-02 -3.2171328e-03]\n",
      " [ 5.3041549e-03  4.3078560e-02  9.6532352e-02  0.0000000e+00\n",
      "  -9.6532352e-02 -4.3078560e-02 -5.3041549e-03]\n",
      " [ 3.2171328e-03  2.6128467e-02  5.8549833e-02  0.0000000e+00\n",
      "  -5.8549833e-02 -2.6128467e-02 -3.2171328e-03]\n",
      " [ 7.1783934e-04  5.8300490e-03  1.3064234e-02  0.0000000e+00\n",
      "  -1.3064234e-02 -5.8300490e-03 -7.1783934e-04]\n",
      " [ 5.8923841e-05  4.7855955e-04  1.0723775e-03  0.0000000e+00\n",
      "  -1.0723775e-03 -4.7855955e-04 -5.8923841e-05]]\n"
     ]
    }
   ],
   "source": [
    "kernel_x, kernel_y = gaussian_derivative_kernels()\n",
    "\n",
    "print('='*60)\n",
    "print(\"KERNEL (X direction):\")\n",
    "print('='*60)\n",
    "print(kernel_x)\n",
    "\n",
    "print('='*60)\n",
    "print(\"\\nKERNEL (Y direction):\")\n",
    "print('='*60)\n",
    "print(kernel_y)\n"
   ]
  },
  {
   "cell_type": "markdown",
   "id": "e6f7cce2",
   "metadata": {},
   "source": [
    "## Apply filtering in x and y direction"
   ]
  },
  {
   "cell_type": "code",
   "execution_count": 6,
   "id": "7090de33",
   "metadata": {},
   "outputs": [],
   "source": [
    "img_dx = cv2.filter2D(img, cv2.CV_64F, kernel_x)\n",
    "img_dy = cv2.filter2D(img, cv2.CV_64F, kernel_y)\n",
    "\n",
    "img_dx_norm = np.round(cv2.normalize(img_dx, None, alpha=0, beta=255, norm_type=cv2.NORM_MINMAX)).astype(np.uint8)\n",
    "img_dy_norm = np.round(cv2.normalize(img_dy, None, alpha=0, beta=255, norm_type=cv2.NORM_MINMAX)).astype(np.uint8)\n",
    "\n",
    "cv2.imshow('Gradient X', img_dx_norm)\n",
    "cv2.imshow('Gradient Y', img_dy_norm)\n",
    "\n",
    "cv2.waitKey(0)\n",
    "cv2.destroyAllWindows()"
   ]
  },
  {
   "cell_type": "markdown",
   "id": "ab1d60f6",
   "metadata": {},
   "source": [
    "## Compute gradient magnitude"
   ]
  },
  {
   "cell_type": "code",
   "execution_count": 7,
   "id": "a10595da",
   "metadata": {},
   "outputs": [],
   "source": [
    "img_grad = cv2.magnitude(img_dx.astype(np.float32), img_dy.astype(np.float32))\n",
    "img_grad_norm = np.round(cv2.normalize(img_grad, None, alpha=0, beta=255, norm_type=cv2.NORM_MINMAX)).astype(np.uint8)\n",
    "\n",
    "cv2.imshow('Gradient Magnitude', img_grad_norm)\n",
    "\n",
    "cv2.waitKey(0)\n",
    "cv2.destroyAllWindows()"
   ]
  },
  {
   "cell_type": "markdown",
   "id": "ef43a0cf",
   "metadata": {},
   "source": [
    "## Apply double thresholding"
   ]
  },
  {
   "cell_type": "code",
   "execution_count": 8,
   "id": "39a63bca",
   "metadata": {},
   "outputs": [],
   "source": [
    "def double_threshold(image, T_min=64, T_max=128):\n",
    "    res = np.zeros_like(image, dtype=np.uint8)\n",
    "    weak = np.zeros_like(image, dtype=np.uint8)\n",
    "    strong = np.zeros_like(image, dtype=np.uint8)\n",
    "    for i in range(image.shape[0]):\n",
    "        for j in range(image.shape[1]):\n",
    "            if image[i, j] < T_min:\n",
    "                res[i, j] = 0\n",
    "            elif image[i, j] < T_max:\n",
    "                weak[i, j] = 128\n",
    "                res[i, j] = 128\n",
    "            else:\n",
    "                strong[i, j] = 255\n",
    "                res[i, j] = 255\n",
    "    return res, weak, strong"
   ]
  },
  {
   "cell_type": "code",
   "execution_count": 9,
   "id": "559cde04",
   "metadata": {},
   "outputs": [],
   "source": [
    "img_double, img_weak, img_strong = double_threshold(img_grad_norm)\n",
    "\n",
    "cv2.imshow('Weak Edges', img_weak)\n",
    "cv2.imshow('Strong Edges', img_strong)\n",
    "\n",
    "cv2.waitKey(0)\n",
    "cv2.destroyAllWindows()"
   ]
  },
  {
   "cell_type": "markdown",
   "id": "f5dc59f3",
   "metadata": {},
   "source": [
    "## Apply hysteresis thresholding"
   ]
  },
  {
   "cell_type": "code",
   "execution_count": 10,
   "id": "59961a48",
   "metadata": {},
   "outputs": [],
   "source": [
    "def hysteresis_threshold(image, T_min=25, T_max=100):\n",
    "    res, _, _ = double_threshold(image, T_min, T_max)\n",
    "\n",
    "    strong_coords = np.argwhere(res == 255)\n",
    "    h, w = res.shape\n",
    "\n",
    "    neighbors = [(-1,-1), (-1,0), (-1,1),\n",
    "                (0,-1),         (0,1),\n",
    "                (1,-1), (1,0), (1,1)]\n",
    "\n",
    "    while len(strong_coords) > 0:\n",
    "        y, x = strong_coords[-1]\n",
    "        strong_coords = strong_coords[:-1]\n",
    "\n",
    "        for dy, dx in neighbors:\n",
    "            ny, nx = y + dy, x + dx\n",
    "            if 0 <= ny < h and 0 <= nx < w:\n",
    "                if res[ny, nx] == 128:\n",
    "                    res[ny, nx] = 255\n",
    "                    strong_coords = np.vstack([strong_coords, [ny, nx]])\n",
    "\n",
    "    res[res != 255] = 0\n",
    "    return res\n"
   ]
  },
  {
   "cell_type": "code",
   "execution_count": 11,
   "id": "88493a1f",
   "metadata": {},
   "outputs": [],
   "source": [
    "img_hyst = hysteresis_threshold(img_grad_norm, 64, 128)"
   ]
  },
  {
   "cell_type": "code",
   "execution_count": 12,
   "id": "f73417ed",
   "metadata": {},
   "outputs": [],
   "source": [
    "cv2.imshow(\"Original Image\", img)\n",
    "cv2.imshow(\"Double Threshold\", img_double)\n",
    "cv2.imshow(\"Hysteresis Threshold\", img_hyst)\n",
    "\n",
    "cv2.waitKey(0)\n",
    "cv2.destroyAllWindows()"
   ]
  },
  {
   "cell_type": "markdown",
   "id": "32ffb5ab",
   "metadata": {},
   "source": [
    "## Apply Canny Edge Detection using built-in functions"
   ]
  },
  {
   "cell_type": "code",
   "execution_count": 13,
   "id": "2eb89d6b",
   "metadata": {},
   "outputs": [],
   "source": [
    "img_blur = cv2.GaussianBlur(img, (5, 5), 0)\n",
    "img_canny = cv2.Canny(img_blur, 64, 128)"
   ]
  },
  {
   "cell_type": "markdown",
   "id": "7390a7d5",
   "metadata": {},
   "source": [
    "## Compare the results"
   ]
  },
  {
   "cell_type": "code",
   "execution_count": 14,
   "id": "85d43653",
   "metadata": {},
   "outputs": [],
   "source": [
    "cv2.imshow(\"Original Image\", img)\n",
    "cv2.imshow(\"Double Thresholding\", img_double)\n",
    "cv2.imshow('Hysteresis Thresholding', img_hyst)\n",
    "cv2.imshow('Canny Edge Detection', img_canny)\n",
    "\n",
    "cv2.waitKey(0)\n",
    "cv2.destroyAllWindows()"
   ]
  }
 ],
 "metadata": {
  "kernelspec": {
   "display_name": "base",
   "language": "python",
   "name": "python3"
  },
  "language_info": {
   "codemirror_mode": {
    "name": "ipython",
    "version": 3
   },
   "file_extension": ".py",
   "mimetype": "text/x-python",
   "name": "python",
   "nbconvert_exporter": "python",
   "pygments_lexer": "ipython3",
   "version": "3.13.5"
  }
 },
 "nbformat": 4,
 "nbformat_minor": 5
}
